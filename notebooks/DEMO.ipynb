{
 "cells": [
  {
   "cell_type": "code",
   "execution_count": 1,
   "metadata": {},
   "outputs": [],
   "source": [
    "%load_ext autoreload\n",
    "%autoreload 2"
   ]
  },
  {
   "cell_type": "code",
   "execution_count": 2,
   "metadata": {},
   "outputs": [
    {
     "name": "stderr",
     "output_type": "stream",
     "text": [
      "DGL backend not selected or invalid.  Assuming PyTorch for now.\n"
     ]
    },
    {
     "name": "stdout",
     "output_type": "stream",
     "text": [
      "Setting the default backend to \"pytorch\". You can change it in the ~/.dgl/config.json file or export the DGLBACKEND environment variable.  Valid options are: pytorch, mxnet, tensorflow (all lowercase)\n"
     ]
    }
   ],
   "source": [
    "# ======== Imports ======\n",
    "import sys\n",
    "sys.path.append('../src')\n",
    "sys.path.append('..')\n",
    "\n",
    "import src.org_net as org_net\n",
    "import networkx as nx"
   ]
  },
  {
   "cell_type": "code",
   "execution_count": 3,
   "metadata": {},
   "outputs": [],
   "source": [
    "G = nx.read_graphml('../data/orgnetwork.graphml')"
   ]
  },
  {
   "cell_type": "code",
   "execution_count": 4,
   "metadata": {},
   "outputs": [
    {
     "name": "stderr",
     "output_type": "stream",
     "text": [
      "/Users/daniellee/anaconda3/envs/senior_design/lib/python3.11/site-packages/dgl/backend/pytorch/tensor.py:53: UserWarning: Creating a tensor from a list of numpy.ndarrays is extremely slow. Please consider converting the list to a single numpy.ndarray with numpy.array() before converting to a tensor. (Triggered internally at /private/var/folders/nz/j6p8yfhx1mv_0grj5xl4650h0000gp/T/abs_1aidzjezue/croot/pytorch_1687856425340/work/torch/csrc/utils/tensor_new.cpp:248.)\n",
      "  return th.as_tensor(data, dtype=dtype)\n"
     ]
    }
   ],
   "source": [
    "G_dgl = org_net.clean_graph_pipeline(G) # Create synthetic graph and pass to the clean pipeline"
   ]
  },
  {
   "cell_type": "code",
   "execution_count": 5,
   "metadata": {},
   "outputs": [
    {
     "name": "stdout",
     "output_type": "stream",
     "text": [
      "In epoch 0, loss: 0.7537385821342468\n",
      "AUC 0.4098713013439955\n",
      "In epoch 5, loss: 0.6849908232688904\n",
      "In epoch 10, loss: 0.6558114886283875\n",
      "In epoch 15, loss: 0.6080098152160645\n",
      "In epoch 20, loss: 0.5498808026313782\n",
      "In epoch 25, loss: 0.49866706132888794\n",
      "In epoch 30, loss: 0.4545297920703888\n",
      "In epoch 35, loss: 0.42293500900268555\n",
      "In epoch 40, loss: 0.39098507165908813\n",
      "In epoch 45, loss: 0.36052078008651733\n",
      "In epoch 50, loss: 0.3334638476371765\n",
      "In epoch 55, loss: 0.309799462556839\n",
      "In epoch 60, loss: 0.29248693585395813\n",
      "In epoch 65, loss: 0.2728215157985687\n",
      "In epoch 70, loss: 0.2548849880695343\n",
      "In epoch 75, loss: 0.23922306299209595\n",
      "In epoch 80, loss: 0.22554361820220947\n",
      "In epoch 85, loss: 0.21576784551143646\n",
      "In epoch 90, loss: 0.20331352949142456\n",
      "In epoch 95, loss: 0.2006382793188095\n",
      "In epoch 100, loss: 0.19017882645130157\n",
      "AUC 0.8824572201788163\n",
      "In epoch 105, loss: 0.18173056840896606\n",
      "In epoch 110, loss: 0.1727396696805954\n",
      "In epoch 115, loss: 0.1675405502319336\n",
      "In epoch 120, loss: 0.1604936122894287\n",
      "In epoch 125, loss: 0.15477028489112854\n",
      "In epoch 130, loss: 0.14982055127620697\n",
      "In epoch 135, loss: 0.14533212780952454\n",
      "In epoch 140, loss: 0.14076702296733856\n",
      "In epoch 145, loss: 0.13697002828121185\n",
      "In epoch 150, loss: 0.1396336704492569\n",
      "In epoch 155, loss: 0.1322258859872818\n",
      "In epoch 160, loss: 0.1269480586051941\n",
      "In epoch 165, loss: 0.12268952280282974\n",
      "In epoch 170, loss: 0.11827623844146729\n",
      "In epoch 175, loss: 0.11443018913269043\n",
      "In epoch 180, loss: 0.11247558891773224\n",
      "In epoch 185, loss: 0.11326054483652115\n",
      "In epoch 190, loss: 0.10652174800634384\n",
      "In epoch 195, loss: 0.10295752435922623\n",
      "In epoch 200, loss: 0.10173235088586807\n",
      "AUC 0.9207316775929592\n",
      "In epoch 205, loss: 0.09792467951774597\n",
      "In epoch 210, loss: 0.09827274084091187\n",
      "In epoch 215, loss: 0.0964273065328598\n",
      "In epoch 220, loss: 0.09356795996427536\n",
      "In epoch 225, loss: 0.09036750346422195\n",
      "In epoch 230, loss: 0.0869574323296547\n",
      "In epoch 235, loss: 0.0859207883477211\n",
      "In epoch 240, loss: 0.08303843438625336\n",
      "In epoch 245, loss: 0.08327209204435349\n",
      "In epoch 250, loss: 0.09217130392789841\n",
      "In epoch 255, loss: 0.08326631039381027\n",
      "In epoch 260, loss: 0.07683227211236954\n",
      "In epoch 265, loss: 0.07536587119102478\n",
      "In epoch 270, loss: 0.07436326891183853\n",
      "In epoch 275, loss: 0.07256347686052322\n",
      "In epoch 280, loss: 0.07086145132780075\n",
      "In epoch 285, loss: 0.06936674565076828\n",
      "In epoch 290, loss: 0.0678098127245903\n",
      "In epoch 295, loss: 0.06635557860136032\n",
      "In epoch 300, loss: 0.06511488556861877\n",
      "AUC 0.9269272342796855\n",
      "In epoch 305, loss: 0.06486775726079941\n",
      "In epoch 310, loss: 0.16662506759166718\n",
      "In epoch 315, loss: 0.07895421981811523\n",
      "In epoch 320, loss: 0.06645925343036652\n",
      "In epoch 325, loss: 0.06787145882844925\n",
      "In epoch 330, loss: 0.06573280692100525\n",
      "In epoch 335, loss: 0.0634065568447113\n",
      "In epoch 340, loss: 0.06098295375704765\n",
      "In epoch 345, loss: 0.058841705322265625\n",
      "In epoch 350, loss: 0.05714865028858185\n",
      "In epoch 355, loss: 0.056009162217378616\n",
      "In epoch 360, loss: 0.05522802844643593\n",
      "In epoch 365, loss: 0.054245758801698685\n",
      "In epoch 370, loss: 0.05327119305729866\n",
      "In epoch 375, loss: 0.05247827246785164\n",
      "In epoch 380, loss: 0.051636096090078354\n",
      "In epoch 385, loss: 0.05085532367229462\n",
      "In epoch 390, loss: 0.05007980391383171\n",
      "In epoch 395, loss: 0.049335118383169174\n",
      "In epoch 400, loss: 0.048598624765872955\n",
      "AUC 0.9296082852357532\n",
      "In epoch 405, loss: 0.04788687825202942\n",
      "In epoch 410, loss: 0.04718499630689621\n",
      "In epoch 415, loss: 0.046499788761138916\n",
      "In epoch 420, loss: 0.04582817107439041\n",
      "In epoch 425, loss: 0.04516802728176117\n",
      "In epoch 430, loss: 0.044517870992422104\n",
      "In epoch 435, loss: 0.043879784643650055\n",
      "In epoch 440, loss: 0.043253831565380096\n",
      "In epoch 445, loss: 0.04263849928975105\n",
      "In epoch 450, loss: 0.04203702136874199\n",
      "In epoch 455, loss: 0.041446100920438766\n",
      "In epoch 460, loss: 0.04086785763502121\n",
      "In epoch 465, loss: 0.040300510823726654\n",
      "In epoch 470, loss: 0.03974407538771629\n",
      "In epoch 475, loss: 0.03919529542326927\n",
      "In epoch 480, loss: 0.03865443170070648\n",
      "In epoch 485, loss: 0.038123778998851776\n",
      "In epoch 490, loss: 0.03760359808802605\n",
      "In epoch 495, loss: 0.03710861876606941\n",
      "In epoch 500, loss: 0.036611780524253845\n",
      "AUC 0.93094255691661\n",
      "In epoch 505, loss: 0.0361204594373703\n",
      "In epoch 510, loss: 0.03563593327999115\n",
      "In epoch 515, loss: 0.035165831446647644\n",
      "In epoch 520, loss: 0.03470393270254135\n",
      "In epoch 525, loss: 0.03424888104200363\n",
      "In epoch 530, loss: 0.033803220838308334\n",
      "In epoch 535, loss: 0.03337261825799942\n",
      "In epoch 540, loss: 0.03294643014669418\n",
      "In epoch 545, loss: 0.03254862129688263\n",
      "In epoch 550, loss: 0.22990044951438904\n",
      "In epoch 555, loss: 0.5099155306816101\n",
      "In epoch 560, loss: 0.1758664846420288\n",
      "In epoch 565, loss: 0.12926144897937775\n",
      "In epoch 570, loss: 0.09970112890005112\n",
      "In epoch 575, loss: 0.08050022274255753\n",
      "In epoch 580, loss: 0.07013128697872162\n",
      "In epoch 585, loss: 0.06192749738693237\n",
      "In epoch 590, loss: 0.05581897124648094\n",
      "In epoch 595, loss: 0.05267150327563286\n",
      "In epoch 600, loss: 0.04968264698982239\n",
      "AUC 0.9293260625939033\n",
      "In epoch 605, loss: 0.04772689938545227\n",
      "In epoch 610, loss: 0.04602954536676407\n",
      "In epoch 615, loss: 0.044590938836336136\n",
      "In epoch 620, loss: 0.04344836622476578\n",
      "In epoch 625, loss: 0.042418379336595535\n",
      "In epoch 630, loss: 0.041523776948451996\n",
      "In epoch 635, loss: 0.04073179140686989\n",
      "In epoch 640, loss: 0.04001595824956894\n",
      "In epoch 645, loss: 0.03935930132865906\n",
      "In epoch 650, loss: 0.03876340761780739\n",
      "In epoch 655, loss: 0.03821404650807381\n",
      "In epoch 660, loss: 0.037704069167375565\n",
      "In epoch 665, loss: 0.03723003342747688\n",
      "In epoch 670, loss: 0.0367870032787323\n",
      "In epoch 675, loss: 0.03637266904115677\n",
      "In epoch 680, loss: 0.03597375378012657\n",
      "In epoch 685, loss: 0.03558947518467903\n",
      "In epoch 690, loss: 0.03522592782974243\n",
      "In epoch 695, loss: 0.03487902134656906\n",
      "In epoch 700, loss: 0.03455503284931183\n",
      "AUC 0.9318361764271229\n"
     ]
    }
   ],
   "source": [
    "model = org_net.train_pipeline(G_dgl, epochs=700)"
   ]
  },
  {
   "cell_type": "code",
   "execution_count": 23,
   "metadata": {},
   "outputs": [
    {
     "data": {
      "text/plain": [
       "'{\"11824\": {\"2342\": 20.614845275878906, \"3857\": 12.601151466369629, \"696\": 9.502740859985352, \"2749\": 8.317657470703125, \"3776\": 7.4694342613220215}}'"
      ]
     },
     "execution_count": 23,
     "metadata": {},
     "output_type": "execute_result"
    }
   ],
   "source": [
    "org_net.format_output(org_net.node_output_pipelne(G_dgl, 11824, model))"
   ]
  },
  {
   "cell_type": "code",
   "execution_count": 20,
   "metadata": {},
   "outputs": [],
   "source": [
    "data = {str(i): k for i, k in enumerate(list(G.nodes))}"
   ]
  },
  {
   "cell_type": "code",
   "execution_count": 28,
   "metadata": {},
   "outputs": [
    {
     "data": {
      "text/plain": [
       "'Sameeha Rizvi'"
      ]
     },
     "execution_count": 28,
     "metadata": {},
     "output_type": "execute_result"
    }
   ],
   "source": [
    "data['3776']"
   ]
  },
  {
   "cell_type": "code",
   "execution_count": null,
   "metadata": {},
   "outputs": [],
   "source": []
  }
 ],
 "metadata": {
  "kernelspec": {
   "display_name": "sd",
   "language": "python",
   "name": "python3"
  },
  "language_info": {
   "codemirror_mode": {
    "name": "ipython",
    "version": 3
   },
   "file_extension": ".py",
   "mimetype": "text/x-python",
   "name": "python",
   "nbconvert_exporter": "python",
   "pygments_lexer": "ipython3",
   "version": "3.11.5"
  }
 },
 "nbformat": 4,
 "nbformat_minor": 2
}
