{
 "cells": [
  {
   "cell_type": "code",
   "execution_count": 1,
   "metadata": {},
   "outputs": [],
   "source": [
    "%load_ext autoreload\n",
    "%autoreload 2\n",
    "\n",
    "# ======== Imports ======\n",
    "import sys\n",
    "sys.path.append('../src')\n",
    "sys.path.append('..')\n",
    "\n",
    "import src.org_net as org_net\n",
    "import networkx as nx"
   ]
  },
  {
   "cell_type": "markdown",
   "metadata": {},
   "source": [
    "# Loading graph, cleaning, and precomputing the inverse"
   ]
  },
  {
   "cell_type": "code",
   "execution_count": 2,
   "metadata": {},
   "outputs": [],
   "source": [
    "G = nx.read_graphml('../data/orgnetwork.graphml')"
   ]
  },
  {
   "cell_type": "code",
   "execution_count": 3,
   "metadata": {},
   "outputs": [
    {
     "name": "stderr",
     "output_type": "stream",
     "text": [
      "/Users/daniellee/anaconda3/envs/senior_design/lib/python3.11/site-packages/dgl/backend/pytorch/tensor.py:53: UserWarning: Creating a tensor from a list of numpy.ndarrays is extremely slow. Please consider converting the list to a single numpy.ndarray with numpy.array() before converting to a tensor. (Triggered internally at /private/var/folders/nz/j6p8yfhx1mv_0grj5xl4650h0000gp/T/abs_1aidzjezue/croot/pytorch_1687856425340/work/torch/csrc/utils/tensor_new.cpp:248.)\n",
      "  return th.as_tensor(data, dtype=dtype)\n"
     ]
    }
   ],
   "source": [
    "G_dgl, id_key = org_net.clean_graph_pipeline(G) # Create synthetic graph and pass to the clean pipeline\n",
    "inv_graph = org_net.invert_graph(G_dgl, save=True)"
   ]
  },
  {
   "cell_type": "markdown",
   "metadata": {},
   "source": [
    "# Model Training"
   ]
  },
  {
   "cell_type": "code",
   "execution_count": 4,
   "metadata": {},
   "outputs": [
    {
     "name": "stdout",
     "output_type": "stream",
     "text": [
      "In epoch 0, loss: 0.7933895587921143\n",
      "AUC 0.3849720804837399\n",
      "In epoch 5, loss: 0.6799355149269104\n",
      "In epoch 10, loss: 0.6611800789833069\n",
      "In epoch 15, loss: 0.6242480278015137\n",
      "In epoch 20, loss: 0.5823467373847961\n",
      "In epoch 25, loss: 0.5448029041290283\n",
      "In epoch 30, loss: 0.5017493367195129\n",
      "In epoch 35, loss: 0.4621363878250122\n",
      "In epoch 40, loss: 0.4306657612323761\n",
      "In epoch 45, loss: 0.40984371304512024\n",
      "In epoch 50, loss: 0.3901328444480896\n",
      "In epoch 55, loss: 0.37349748611450195\n",
      "In epoch 60, loss: 0.35879677534103394\n",
      "In epoch 65, loss: 0.3457307815551758\n",
      "In epoch 70, loss: 0.32673120498657227\n",
      "In epoch 75, loss: 0.31407302618026733\n",
      "In epoch 80, loss: 0.3090580403804779\n",
      "In epoch 85, loss: 0.2954152226448059\n",
      "In epoch 90, loss: 0.28199127316474915\n",
      "In epoch 95, loss: 0.28061336278915405\n",
      "In epoch 100, loss: 0.26544836163520813\n",
      "AUC 0.8561482330810092\n",
      "In epoch 105, loss: 0.2571011781692505\n",
      "In epoch 110, loss: 0.24977509677410126\n",
      "In epoch 115, loss: 0.24674224853515625\n",
      "In epoch 120, loss: 0.23539870977401733\n",
      "In epoch 125, loss: 0.23337161540985107\n",
      "In epoch 130, loss: 0.22715221345424652\n",
      "In epoch 135, loss: 0.21744762361049652\n",
      "In epoch 140, loss: 0.21465782821178436\n",
      "In epoch 145, loss: 0.20796769857406616\n",
      "In epoch 150, loss: 0.20190715789794922\n",
      "In epoch 155, loss: 0.1966608464717865\n",
      "In epoch 160, loss: 0.1900389939546585\n",
      "In epoch 165, loss: 0.18888911604881287\n",
      "In epoch 170, loss: 0.18707242608070374\n",
      "In epoch 175, loss: 0.180023655295372\n",
      "In epoch 180, loss: 0.1744275987148285\n",
      "In epoch 185, loss: 0.16987332701683044\n",
      "In epoch 190, loss: 0.16423314809799194\n",
      "In epoch 195, loss: 0.16147872805595398\n",
      "In epoch 200, loss: 0.15622924268245697\n",
      "AUC 0.895762927336393\n",
      "In epoch 205, loss: 0.15610122680664062\n",
      "In epoch 210, loss: 0.16386295855045319\n",
      "In epoch 215, loss: 0.14706198871135712\n",
      "In epoch 220, loss: 0.14579111337661743\n",
      "In epoch 225, loss: 0.1421722173690796\n",
      "In epoch 230, loss: 0.13736480474472046\n",
      "In epoch 235, loss: 0.13455888628959656\n",
      "In epoch 240, loss: 0.1318318247795105\n",
      "In epoch 245, loss: 0.12892131507396698\n",
      "In epoch 250, loss: 0.12621867656707764\n",
      "In epoch 255, loss: 0.12399358302354813\n",
      "In epoch 260, loss: 0.12190185487270355\n",
      "In epoch 265, loss: 0.12069138884544373\n",
      "In epoch 270, loss: 0.12425300478935242\n",
      "In epoch 275, loss: 0.11464421451091766\n",
      "In epoch 280, loss: 0.11185798794031143\n",
      "In epoch 285, loss: 0.11096770316362381\n",
      "In epoch 290, loss: 0.10797027498483658\n",
      "In epoch 295, loss: 0.10687261074781418\n",
      "In epoch 300, loss: 0.10325567424297333\n",
      "AUC 0.9124792951207297\n"
     ]
    }
   ],
   "source": [
    "model = org_net.train_pipeline(G_dgl, epochs=300)"
   ]
  },
  {
   "cell_type": "markdown",
   "metadata": {},
   "source": [
    "# Example output calls"
   ]
  },
  {
   "cell_type": "code",
   "execution_count": 5,
   "metadata": {},
   "outputs": [
    {
     "data": {
      "text/plain": [
       "'{\"Tammy Huynh\": {\"\\\\u201cConsult Your Community- Texas Chapter\": 35.75795364379883, \"Zobha\": 35.75795364379883, \"Camp Kesem at the University of Texas at Austin\": 35.75795364379883, \"Texas Field Hockey\": 35.75795364379883, \"Student Endowed Centennial Lectureship\": 35.75795364379883}}'"
      ]
     },
     "execution_count": 5,
     "metadata": {},
     "output_type": "execute_result"
    }
   ],
   "source": [
    "org_net.get_reccomendations_for_new_student('Tammy Huynh', \n",
    "                                            year='Senior', \n",
    "                                            major='Biology (Bsa)', \n",
    "                                            list_of_orgs=['Texas Taekwondo'])"
   ]
  }
 ],
 "metadata": {
  "kernelspec": {
   "display_name": "sd",
   "language": "python",
   "name": "python3"
  },
  "language_info": {
   "codemirror_mode": {
    "name": "ipython",
    "version": 3
   },
   "file_extension": ".py",
   "mimetype": "text/x-python",
   "name": "python",
   "nbconvert_exporter": "python",
   "pygments_lexer": "ipython3",
   "version": "3.11.5"
  }
 },
 "nbformat": 4,
 "nbformat_minor": 2
}
