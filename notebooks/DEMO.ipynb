{
 "cells": [
  {
   "cell_type": "code",
   "execution_count": 1,
   "metadata": {},
   "outputs": [],
   "source": [
    "%load_ext autoreload\n",
    "%autoreload 2\n",
    "\n",
    "# ======== Imports ======\n",
    "import sys\n",
    "sys.path.append('../src')\n",
    "sys.path.append('..')\n",
    "\n",
    "import src.org_net as org_net\n",
    "import networkx as nx"
   ]
  },
  {
   "cell_type": "markdown",
   "metadata": {},
   "source": [
    "# Loading graph, cleaning, and precomputing the inverse"
   ]
  },
  {
   "cell_type": "code",
   "execution_count": 31,
   "metadata": {},
   "outputs": [],
   "source": [
    "G = nx.read_graphml('../data/orgnetwork.graphml')"
   ]
  },
  {
   "cell_type": "code",
   "execution_count": 2,
   "metadata": {},
   "outputs": [
    {
     "name": "stderr",
     "output_type": "stream",
     "text": [
      "c:\\Users\\Jackson Paull\\.conda\\envs\\sd\\Lib\\site-packages\\dgl\\backend\\pytorch\\tensor.py:53: UserWarning: Creating a tensor from a list of numpy.ndarrays is extremely slow. Please consider converting the list to a single numpy.ndarray with numpy.array() before converting to a tensor. (Triggered internally at C:\\b\\abs_abjetg6_iu\\croot\\pytorch_1686932924616\\work\\torch\\csrc\\utils\\tensor_new.cpp:248.)\n",
      "  return th.as_tensor(data, dtype=dtype)\n"
     ]
    }
   ],
   "source": [
    "G_dgl, id_key = org_net.clean_graph_pipeline(G) # Create synthetic graph and pass to the clean pipeline\n",
    "inv_graph = org_net.invert_graph(G_dgl, save=True)"
   ]
  },
  {
   "cell_type": "markdown",
   "metadata": {},
   "source": [
    "# Model Training"
   ]
  },
  {
   "cell_type": "code",
   "execution_count": 3,
   "metadata": {},
   "outputs": [
    {
     "name": "stdout",
     "output_type": "stream",
     "text": [
      "In epoch 0, loss: 0.8796073198318481\n",
      "AUC 0.41417827542466806\n",
      "In epoch 5, loss: 0.706157386302948\n",
      "In epoch 10, loss: 0.6842371821403503\n",
      "In epoch 15, loss: 0.6696130037307739\n",
      "In epoch 20, loss: 0.6459832787513733\n",
      "In epoch 25, loss: 0.6091833114624023\n",
      "In epoch 30, loss: 0.566076934337616\n",
      "In epoch 35, loss: 0.5231427550315857\n",
      "In epoch 40, loss: 0.4898395240306854\n",
      "In epoch 45, loss: 0.4614883065223694\n",
      "In epoch 50, loss: 0.4388887584209442\n",
      "In epoch 55, loss: 0.4134763479232788\n",
      "In epoch 60, loss: 0.3907411992549896\n",
      "In epoch 65, loss: 0.3667048215866089\n",
      "In epoch 70, loss: 0.3444490134716034\n",
      "In epoch 75, loss: 0.3283885717391968\n",
      "In epoch 80, loss: 0.31355586647987366\n",
      "In epoch 85, loss: 0.2976434826850891\n",
      "In epoch 90, loss: 0.28353095054626465\n",
      "In epoch 95, loss: 0.2678867280483246\n",
      "In epoch 100, loss: 0.2654680609703064\n",
      "AUC 0.8750116096132217\n",
      "In epoch 105, loss: 0.2601096034049988\n",
      "In epoch 110, loss: 0.24284406006336212\n",
      "In epoch 115, loss: 0.2322479635477066\n",
      "In epoch 120, loss: 0.22318503260612488\n",
      "In epoch 125, loss: 0.21515178680419922\n",
      "In epoch 130, loss: 0.209095761179924\n",
      "In epoch 135, loss: 0.2012915313243866\n",
      "In epoch 140, loss: 0.1953059285879135\n",
      "In epoch 145, loss: 0.18914279341697693\n",
      "In epoch 150, loss: 0.18290729820728302\n",
      "In epoch 155, loss: 0.17824150621891022\n",
      "In epoch 160, loss: 0.18000629544258118\n",
      "In epoch 165, loss: 0.16840527951717377\n",
      "In epoch 170, loss: 0.1628575623035431\n",
      "In epoch 175, loss: 0.15760016441345215\n",
      "In epoch 180, loss: 0.15375658869743347\n",
      "In epoch 185, loss: 0.15036262571811676\n",
      "In epoch 190, loss: 0.1470114141702652\n",
      "In epoch 195, loss: 0.14108507335186005\n",
      "In epoch 200, loss: 0.14090047776699066\n",
      "AUC 0.9150661863408348\n",
      "In epoch 205, loss: 0.14392557740211487\n",
      "In epoch 210, loss: 0.13181273639202118\n",
      "In epoch 215, loss: 0.13153071701526642\n",
      "In epoch 220, loss: 0.1257794201374054\n",
      "In epoch 225, loss: 0.12383861839771271\n",
      "In epoch 230, loss: 0.12136033177375793\n",
      "In epoch 235, loss: 0.11841733753681183\n",
      "In epoch 240, loss: 0.11571390926837921\n",
      "In epoch 245, loss: 0.11299873143434525\n",
      "In epoch 250, loss: 0.11099547147750854\n",
      "In epoch 255, loss: 0.10880560427904129\n",
      "In epoch 260, loss: 0.1123831644654274\n",
      "In epoch 265, loss: 0.10794354230165482\n",
      "In epoch 270, loss: 0.11191974580287933\n",
      "In epoch 275, loss: 0.10195530951023102\n",
      "In epoch 280, loss: 0.10242258757352829\n",
      "In epoch 285, loss: 0.10120908170938492\n",
      "In epoch 290, loss: 0.0983186662197113\n",
      "In epoch 295, loss: 0.09596096724271774\n",
      "In epoch 300, loss: 0.0930948480963707\n",
      "AUC 0.9202139273281827\n"
     ]
    }
   ],
   "source": [
    "model = org_net.train_pipeline(G_dgl, epochs=300)"
   ]
  },
  {
   "cell_type": "markdown",
   "metadata": {},
   "source": [
    "# Example output calls"
   ]
  },
  {
   "cell_type": "code",
   "execution_count": 186,
   "metadata": {},
   "outputs": [
    {
     "data": {
      "text/plain": [
       "'{\"Tammy Huynh\": {\"\\\\u201cConsult Your Community- Texas Chapter\": 49.888641357421875, \"Zobha\": 49.888641357421875, \"Camp Kesem at the University of Texas at Austin\": 49.888641357421875, \"Texas Field Hockey\": 49.888641357421875, \"Student Endowed Centennial Lectureship\": 49.888641357421875}}'"
      ]
     },
     "execution_count": 186,
     "metadata": {},
     "output_type": "execute_result"
    }
   ],
   "source": [
    "org_net.get_reccomendations_for_new_student('Tammy Huynh', \n",
    "                                            year='Senior', \n",
    "                                            major='Biology (Bsa)', \n",
    "                                            list_of_orgs=['Texas Taekwondo'])"
   ]
  }
 ],
 "metadata": {
  "kernelspec": {
   "display_name": "sd",
   "language": "python",
   "name": "python3"
  },
  "language_info": {
   "codemirror_mode": {
    "name": "ipython",
    "version": 3
   },
   "file_extension": ".py",
   "mimetype": "text/x-python",
   "name": "python",
   "nbconvert_exporter": "python",
   "pygments_lexer": "ipython3",
   "version": "3.11.5"
  }
 },
 "nbformat": 4,
 "nbformat_minor": 2
}
